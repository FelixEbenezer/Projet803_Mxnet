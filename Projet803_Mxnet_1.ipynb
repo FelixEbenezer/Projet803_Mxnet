{
  "nbformat": 4,
  "nbformat_minor": 0,
  "metadata": {
    "colab": {
      "name": "Projet803_Mxnet_1.ipynb",
      "provenance": [],
      "collapsed_sections": [],
      "authorship_tag": "ABX9TyMpqvaNQbFsTdkm4P4wLGqD",
      "include_colab_link": true
    },
    "kernelspec": {
      "name": "python3",
      "display_name": "Python 3"
    },
    "language_info": {
      "name": "python"
    },
    "accelerator": "GPU"
  },
  "cells": [
    {
      "cell_type": "markdown",
      "metadata": {
        "id": "view-in-github",
        "colab_type": "text"
      },
      "source": [
        "<a href=\"https://colab.research.google.com/github/FelixEbenezer/Projet803_Mxnet/blob/main/Projet803_Mxnet_1.ipynb\" target=\"_parent\"><img src=\"https://colab.research.google.com/assets/colab-badge.svg\" alt=\"Open In Colab\"/></a>"
      ]
    },
    {
      "cell_type": "code",
      "execution_count": 2,
      "metadata": {
        "colab": {
          "base_uri": "https://localhost:8080/"
        },
        "id": "1zAGb77G7Ak4",
        "outputId": "3165426e-179d-4506-a021-c14b62ad6d75"
      },
      "outputs": [
        {
          "output_type": "stream",
          "name": "stdout",
          "text": [
            "Collecting mxnet\n",
            "  Downloading mxnet-1.9.0-py3-none-manylinux2014_x86_64.whl (47.3 MB)\n",
            "\u001b[K     |████████████████████████████████| 47.3 MB 1.7 MB/s \n",
            "\u001b[?25hCollecting graphviz<0.9.0,>=0.8.1\n",
            "  Downloading graphviz-0.8.4-py2.py3-none-any.whl (16 kB)\n",
            "Requirement already satisfied: requests<3,>=2.20.0 in /usr/local/lib/python3.7/dist-packages (from mxnet) (2.23.0)\n",
            "Requirement already satisfied: numpy<2.0.0,>1.16.0 in /usr/local/lib/python3.7/dist-packages (from mxnet) (1.21.5)\n",
            "Requirement already satisfied: certifi>=2017.4.17 in /usr/local/lib/python3.7/dist-packages (from requests<3,>=2.20.0->mxnet) (2021.10.8)\n",
            "Requirement already satisfied: idna<3,>=2.5 in /usr/local/lib/python3.7/dist-packages (from requests<3,>=2.20.0->mxnet) (2.10)\n",
            "Requirement already satisfied: chardet<4,>=3.0.2 in /usr/local/lib/python3.7/dist-packages (from requests<3,>=2.20.0->mxnet) (3.0.4)\n",
            "Requirement already satisfied: urllib3!=1.25.0,!=1.25.1,<1.26,>=1.21.1 in /usr/local/lib/python3.7/dist-packages (from requests<3,>=2.20.0->mxnet) (1.24.3)\n",
            "Installing collected packages: graphviz, mxnet\n",
            "  Attempting uninstall: graphviz\n",
            "    Found existing installation: graphviz 0.10.1\n",
            "    Uninstalling graphviz-0.10.1:\n",
            "      Successfully uninstalled graphviz-0.10.1\n",
            "Successfully installed graphviz-0.8.4 mxnet-1.9.0\n"
          ]
        }
      ],
      "source": [
        "!pip install mxnet"
      ]
    },
    {
      "cell_type": "markdown",
      "source": [
        "# Quelques modules de framework Mxnet"
      ],
      "metadata": {
        "id": "QfGaWQPU8LIW"
      }
    },
    {
      "cell_type": "markdown",
      "source": [
        "# a) MXNET NDARAY"
      ],
      "metadata": {
        "id": "1rUUJ7Dy7H14"
      }
    },
    {
      "cell_type": "code",
      "source": [
        "import mxnet as mx\n",
        "from mxnet import nd"
      ],
      "metadata": {
        "id": "Opc54amVAzm9"
      },
      "execution_count": 1,
      "outputs": []
    },
    {
      "cell_type": "code",
      "source": [
        "import mxnet as mx\n",
        "# create a 1-dimensional array with a python list\n",
        "a = mx.nd.array([1,2,3])\n",
        "a"
      ],
      "metadata": {
        "colab": {
          "base_uri": "https://localhost:8080/"
        },
        "id": "sLQXoYo47NJD",
        "outputId": "c682b3f8-9f3a-4f0f-ec03-1f9b3150f099"
      },
      "execution_count": 4,
      "outputs": [
        {
          "output_type": "execute_result",
          "data": {
            "text/plain": [
              "\n",
              "[1. 2. 3.]\n",
              "<NDArray 3 @cpu(0)>"
            ]
          },
          "metadata": {},
          "execution_count": 4
        }
      ]
    },
    {
      "cell_type": "code",
      "source": [
        "#avec numpy\n",
        "import numpy as np\n",
        "a = np.array([1,2,3])\n",
        "a"
      ],
      "metadata": {
        "colab": {
          "base_uri": "https://localhost:8080/"
        },
        "id": "PSFlOZsH7frw",
        "outputId": "8209be18-ff69-4efb-e768-d79429c979f6"
      },
      "execution_count": 5,
      "outputs": [
        {
          "output_type": "execute_result",
          "data": {
            "text/plain": [
              "array([1, 2, 3])"
            ]
          },
          "metadata": {},
          "execution_count": 5
        }
      ]
    },
    {
      "cell_type": "code",
      "source": [
        "# create a 2-dimensional array with a nested python list\n",
        "b = mx.nd.array([[1,2,3], [2,3,4]])\n",
        "{'a.shape':a.shape, 'b.shape':b.shape}"
      ],
      "metadata": {
        "colab": {
          "base_uri": "https://localhost:8080/"
        },
        "id": "8ZoKSQ_k7tEJ",
        "outputId": "7a797c05-8818-45b2-bb5a-0a0baea30741"
      },
      "execution_count": 6,
      "outputs": [
        {
          "output_type": "execute_result",
          "data": {
            "text/plain": [
              "{'a.shape': (3,), 'b.shape': (2, 3)}"
            ]
          },
          "metadata": {},
          "execution_count": 6
        }
      ]
    },
    {
      "cell_type": "code",
      "source": [
        "b"
      ],
      "metadata": {
        "colab": {
          "base_uri": "https://localhost:8080/"
        },
        "id": "q6W3SSVc7yKL",
        "outputId": "af7fa4b3-053b-45be-941e-7311683a276e"
      },
      "execution_count": 7,
      "outputs": [
        {
          "output_type": "execute_result",
          "data": {
            "text/plain": [
              "\n",
              "[[1. 2. 3.]\n",
              " [2. 3. 4.]]\n",
              "<NDArray 2x3 @cpu(0)>"
            ]
          },
          "metadata": {},
          "execution_count": 7
        }
      ]
    },
    {
      "cell_type": "markdown",
      "source": [
        "Créer un NDArray sans aucune initialisation avec empty et full"
      ],
      "metadata": {
        "id": "taFxAKbAA8hp"
      }
    },
    {
      "cell_type": "code",
      "source": [
        "x = nd.empty((3, 4))\n",
        "print(x)\n",
        "y = nd.full((3,4), 8)\n",
        "print(y)"
      ],
      "metadata": {
        "colab": {
          "base_uri": "https://localhost:8080/"
        },
        "id": "3Pzaw1PzA9X6",
        "outputId": "d78f3b4e-6c3e-412b-b038-39abb7a12132"
      },
      "execution_count": 8,
      "outputs": [
        {
          "output_type": "stream",
          "name": "stdout",
          "text": [
            "\n",
            "[[5.8826799e-08 3.0887421e-41 5.0446745e-44 0.0000000e+00]\n",
            " [          nan 0.0000000e+00 7.4091654e+28 5.2164852e-11]\n",
            " [7.5883790e+31 2.8969889e+23 1.8007912e+25 4.5448206e+30]]\n",
            "<NDArray 3x4 @cpu(0)>\n",
            "\n",
            "[[8. 8. 8. 8.]\n",
            " [8. 8. 8. 8.]\n",
            " [8. 8. 8. 8.]]\n",
            "<NDArray 3x4 @cpu(0)>\n"
          ]
        }
      ]
    },
    {
      "cell_type": "markdown",
      "source": [
        "Matrice de tous les zéros avec la fonction .zeros"
      ],
      "metadata": {
        "id": "OpdXJqQjBT55"
      }
    },
    {
      "cell_type": "code",
      "source": [
        "x = nd.zeros((3, 8))\n",
        "print(x)"
      ],
      "metadata": {
        "colab": {
          "base_uri": "https://localhost:8080/"
        },
        "id": "7skuCq_uBUne",
        "outputId": "eb4f38cd-21ca-4a50-e5d8-1817641517e4"
      },
      "execution_count": 9,
      "outputs": [
        {
          "output_type": "stream",
          "name": "stdout",
          "text": [
            "\n",
            "[[0. 0. 0. 0. 0. 0. 0. 0.]\n",
            " [0. 0. 0. 0. 0. 0. 0. 0.]\n",
            " [0. 0. 0. 0. 0. 0. 0. 0.]]\n",
            "<NDArray 3x8 @cpu(0)>\n"
          ]
        }
      ]
    },
    {
      "cell_type": "code",
      "source": [
        "#Matrice de tous les uns avec la fonction .ones\n",
        "x = nd.ones((3, 8))\n",
        "print(x)"
      ],
      "metadata": {
        "colab": {
          "base_uri": "https://localhost:8080/"
        },
        "id": "hGmMIdtXBbYS",
        "outputId": "44ba428a-bd54-49ef-cec8-39acca5d18d3"
      },
      "execution_count": 10,
      "outputs": [
        {
          "output_type": "stream",
          "name": "stdout",
          "text": [
            "\n",
            "[[1. 1. 1. 1. 1. 1. 1. 1.]\n",
            " [1. 1. 1. 1. 1. 1. 1. 1.]\n",
            " [1. 1. 1. 1. 1. 1. 1. 1.]]\n",
            "<NDArray 3x8 @cpu(0)>\n"
          ]
        }
      ]
    },
    {
      "cell_type": "code",
      "source": [
        "#Création d'un tableau dont les valeurs sont échantillonnées au hasard\n",
        "y = nd.random_normal(0, 1, shape=(3, 4))\n",
        "print(y)"
      ],
      "metadata": {
        "colab": {
          "base_uri": "https://localhost:8080/"
        },
        "id": "8z_08HwEBpz9",
        "outputId": "421d5c02-75db-4982-8427-37e2a3e9ee4e"
      },
      "execution_count": 11,
      "outputs": [
        {
          "output_type": "stream",
          "name": "stdout",
          "text": [
            "\n",
            "[[ 2.2122064   0.7740038   1.0434403   1.1839255 ]\n",
            " [ 1.8917114  -1.2347414  -1.771029   -0.45138445]\n",
            " [ 0.57938355 -1.856082   -1.9768796  -0.20801921]]\n",
            "<NDArray 3x4 @cpu(0)>\n"
          ]
        }
      ]
    },
    {
      "cell_type": "code",
      "source": [
        "#Trouver la dimension de chaque NDArray\n",
        "y.shape"
      ],
      "metadata": {
        "colab": {
          "base_uri": "https://localhost:8080/"
        },
        "id": "sUfqX3TDBv01",
        "outputId": "c19981a7-eca8-4d8f-a281-cc72bd35532f"
      },
      "execution_count": 12,
      "outputs": [
        {
          "output_type": "execute_result",
          "data": {
            "text/plain": [
              "(3, 4)"
            ]
          },
          "metadata": {},
          "execution_count": 12
        }
      ]
    },
    {
      "cell_type": "code",
      "source": [
        "# Trouver la taille de chaque NDArray\n",
        "y.size"
      ],
      "metadata": {
        "colab": {
          "base_uri": "https://localhost:8080/"
        },
        "id": "eA7tSxnTB1fc",
        "outputId": "653173f7-4485-4130-c201-6f6229e8b39c"
      },
      "execution_count": 13,
      "outputs": [
        {
          "output_type": "execute_result",
          "data": {
            "text/plain": [
              "12"
            ]
          },
          "metadata": {},
          "execution_count": 13
        }
      ]
    },
    {
      "cell_type": "code",
      "source": [
        "#Trouver le type de données de chaque NDArray\n",
        "y.dtype"
      ],
      "metadata": {
        "colab": {
          "base_uri": "https://localhost:8080/"
        },
        "id": "SSbyNS72B7cJ",
        "outputId": "a785050b-4e85-4bf7-e415-bab19d23615e"
      },
      "execution_count": 14,
      "outputs": [
        {
          "output_type": "execute_result",
          "data": {
            "text/plain": [
              "numpy.float32"
            ]
          },
          "metadata": {},
          "execution_count": 14
        }
      ]
    },
    {
      "cell_type": "markdown",
      "source": [
        "Opérations NDArray\n",
        "Dans cette section, nous vous présenterons les opérations de tableau de MXNet. NDArray prend en charge un grand nombre d'opérations mathématiques standard ainsi que des opérations sur place.\n",
        "\n",
        "Opérations mathématiques standard"
      ],
      "metadata": {
        "id": "n7J1HHxPCF3m"
      }
    },
    {
      "cell_type": "code",
      "source": [
        "#Les opérations mathematiques sont faites element par element \n",
        "x = nd.ones((3, 5))\n",
        "print(x)\n",
        "y = nd.random_normal(0, 1, shape=(3, 5))\n",
        "print(y)\n",
        "print(x+y)"
      ],
      "metadata": {
        "colab": {
          "base_uri": "https://localhost:8080/"
        },
        "id": "sz7ePtqLCG3i",
        "outputId": "90ec32bb-fa13-44cc-9a7d-0ad36fe336c3"
      },
      "execution_count": 15,
      "outputs": [
        {
          "output_type": "stream",
          "name": "stdout",
          "text": [
            "\n",
            "[[1. 1. 1. 1. 1.]\n",
            " [1. 1. 1. 1. 1.]\n",
            " [1. 1. 1. 1. 1.]]\n",
            "<NDArray 3x5 @cpu(0)>\n",
            "\n",
            "[[ 0.2444218  -0.03716067 -0.48774993 -0.02261727  0.57461417]\n",
            " [ 1.4661262   0.6862904   0.35496104  1.0731696   0.12017461]\n",
            " [-0.9711102  -0.77569664 -0.7882176   0.7417728  -1.4734439 ]]\n",
            "<NDArray 3x5 @cpu(0)>\n",
            "\n",
            "[[ 1.2444218   0.9628393   0.51225007  0.9773827   1.5746142 ]\n",
            " [ 2.4661262   1.6862904   1.354961    2.0731697   1.1201746 ]\n",
            " [ 0.02888978  0.22430336  0.2117824   1.7417728  -0.47344387]]\n",
            "<NDArray 3x5 @cpu(0)>\n"
          ]
        }
      ]
    },
    {
      "cell_type": "code",
      "source": [
        "print(id(x))\n",
        "print(id(y))"
      ],
      "metadata": {
        "colab": {
          "base_uri": "https://localhost:8080/"
        },
        "id": "s_Si-YL-C7q3",
        "outputId": "f7d295d2-4d8a-4562-8138-49416fa39155"
      },
      "execution_count": 16,
      "outputs": [
        {
          "output_type": "stream",
          "name": "stdout",
          "text": [
            "139916002060240\n",
            "139916002060944\n"
          ]
        }
      ]
    },
    {
      "cell_type": "markdown",
      "source": [
        "Contextes NDArray\n",
        "Dans Apache MXNet, chaque tableau a un contexte et un contexte peut être le CPU, tandis que d'autres contextes peuvent être plusieurs GPU. Les choses peuvent devenir encore pires lorsque nous déployons le travail sur plusieurs serveurs. C'est pourquoi, nous devons assigner intelligemment les tableaux aux contextes. Cela minimisera le temps passé à transférer des données entre les appareils."
      ],
      "metadata": {
        "id": "ZgAC4r2oEbsX"
      }
    },
    {
      "cell_type": "code",
      "source": [
        "z = nd.ones(shape=(3,3), ctx=mx.cpu(0))\n",
        "print(z)"
      ],
      "metadata": {
        "colab": {
          "base_uri": "https://localhost:8080/"
        },
        "id": "Bjv6-cCnEc4G",
        "outputId": "dfc69417-dd77-4f0e-e85d-bf9726b80dc8"
      },
      "execution_count": 2,
      "outputs": [
        {
          "output_type": "stream",
          "name": "stdout",
          "text": [
            "\n",
            "[[1. 1. 1.]\n",
            " [1. 1. 1.]\n",
            " [1. 1. 1.]]\n",
            "<NDArray 3x3 @cpu(0)>\n"
          ]
        }
      ]
    },
    {
      "cell_type": "code",
      "source": [
        "#Nous pouvons copier le NDArray donné d'un contexte à un autre contexte en utilisant la méthode copyto() comme suit -\n",
        "#on doit d activer le contexte gpu \n",
        "!pip install mxnet-cu101\n"
      ],
      "metadata": {
        "colab": {
          "base_uri": "https://localhost:8080/",
          "height": 311
        },
        "id": "XCyrcOIGEpDT",
        "outputId": "4a5a82ec-6162-49b6-ea80-b72757ff871c"
      },
      "execution_count": 18,
      "outputs": [
        {
          "output_type": "stream",
          "name": "stdout",
          "text": [
            "Collecting mxnet-cu101\n",
            "  Downloading mxnet_cu101-1.9.0-py3-none-manylinux2014_x86_64.whl (358.1 MB)\n",
            "\u001b[K     |████████████████████████████████| 358.1 MB 5.2 kB/s \n",
            "\u001b[?25hRequirement already satisfied: numpy<2.0.0,>1.16.0 in /usr/local/lib/python3.7/dist-packages (from mxnet-cu101) (1.21.5)\n",
            "Requirement already satisfied: graphviz<0.9.0,>=0.8.1 in /usr/local/lib/python3.7/dist-packages (from mxnet-cu101) (0.8.4)\n",
            "Requirement already satisfied: requests<3,>=2.20.0 in /usr/local/lib/python3.7/dist-packages (from mxnet-cu101) (2.23.0)\n",
            "Requirement already satisfied: chardet<4,>=3.0.2 in /usr/local/lib/python3.7/dist-packages (from requests<3,>=2.20.0->mxnet-cu101) (3.0.4)\n",
            "Requirement already satisfied: certifi>=2017.4.17 in /usr/local/lib/python3.7/dist-packages (from requests<3,>=2.20.0->mxnet-cu101) (2021.10.8)\n",
            "Requirement already satisfied: urllib3!=1.25.0,!=1.25.1,<1.26,>=1.21.1 in /usr/local/lib/python3.7/dist-packages (from requests<3,>=2.20.0->mxnet-cu101) (1.24.3)\n",
            "Requirement already satisfied: idna<3,>=2.5 in /usr/local/lib/python3.7/dist-packages (from requests<3,>=2.20.0->mxnet-cu101) (2.10)\n",
            "Installing collected packages: mxnet-cu101\n",
            "Successfully installed mxnet-cu101-1.9.0\n"
          ]
        },
        {
          "output_type": "display_data",
          "data": {
            "application/vnd.colab-display-data+json": {
              "pip_warning": {
                "packages": [
                  "mxnet"
                ]
              }
            }
          },
          "metadata": {}
        }
      ]
    },
    {
      "cell_type": "code",
      "source": [
        "#Et apres vous devez avoir activé au moins un GPU , une fois GPU activé, vous allez voir à la sortie de votre code au lieu que ce soit <NDArray 3x3 @cpu(0)>\n",
        "#indiquant le contexte cpu, ça sera <NDArray 3x3 @gpu(0)>"
      ],
      "metadata": {
        "id": "nYID1lhnG6kq"
      },
      "execution_count": null,
      "outputs": []
    },
    {
      "cell_type": "code",
      "source": [
        "x_gpu = z.copyto(mx.gpu(0))\n",
        "print(x_gpu)"
      ],
      "metadata": {
        "colab": {
          "base_uri": "https://localhost:8080/"
        },
        "id": "CO80tMOgGg6z",
        "outputId": "3298a070-7625-4489-c32e-06df227112cd"
      },
      "execution_count": 3,
      "outputs": [
        {
          "output_type": "stream",
          "name": "stdout",
          "text": [
            "\n",
            "[[1. 1. 1.]\n",
            " [1. 1. 1.]\n",
            " [1. 1. 1.]]\n",
            "<NDArray 3x3 @gpu(0)>\n"
          ]
        }
      ]
    },
    {
      "cell_type": "markdown",
      "source": [
        "Conversion de NDArray en NumPy Array\n",
        "Apprenons comment pouvons-nous convertir NDArray en NumPy Array dans MXNet avec les fonctions .asnumpy() ou .asscalar()\n",
        "\n",
        "Combiner un opérateur de niveau supérieur avec l'aide de quelques opérateurs de niveau inférieur\n",
        "\n",
        "Parfois, nous pouvons assembler un opérateur de niveau supérieur en utilisant les opérateurs existants. L'un des meilleurs exemples de cela est l' opérateur np.full_like() , qui n'existe pas dans l'API NDArray. Il peut facilement être remplacé par une combinaison d'opérateurs existants comme suit :"
      ],
      "metadata": {
        "id": "7ggVWK4NIlgv"
      }
    },
    {
      "cell_type": "code",
      "source": [
        "from mxnet import nd\n",
        "import numpy as np\n",
        "np_x = np.full_like(a=np.arange(7, dtype=int), fill_value=15)\n",
        "nd_x = nd.ones(shape=(7,)) * 15\n",
        "np.array_equal(np_x, nd_x.asnumpy())"
      ],
      "metadata": {
        "colab": {
          "base_uri": "https://localhost:8080/"
        },
        "id": "tEtaWbaaH9Nd",
        "outputId": "a309a6e5-d5a8-47f0-8189-e6bd52f9735d"
      },
      "execution_count": 4,
      "outputs": [
        {
          "output_type": "execute_result",
          "data": {
            "text/plain": [
              "True"
            ]
          },
          "metadata": {},
          "execution_count": 4
        }
      ]
    },
    {
      "cell_type": "markdown",
      "source": [
        "# Apache MXNet - API Python ndarray"
      ],
      "metadata": {
        "id": "04_KIM4PJkiK"
      }
    },
    {
      "cell_type": "markdown",
      "source": [
        "a) FOnctions de classes et leurs parametres "
      ],
      "metadata": {
        "id": "we-s2Qa1Ltj2"
      }
    },
    {
      "cell_type": "code",
      "source": [
        "#Exemple de l utilisation de la fonction cast de l api ndarray de mxnet\n",
        "nd.cast(nd.array([300, 10.1, 15.4, -1, -2]), dtype='uint8')"
      ],
      "metadata": {
        "colab": {
          "base_uri": "https://localhost:8080/"
        },
        "id": "8v4kE6EzJmCA",
        "outputId": "517bc0d7-e727-451d-e136-adf145609934"
      },
      "execution_count": 5,
      "outputs": [
        {
          "output_type": "execute_result",
          "data": {
            "text/plain": [
              "\n",
              "[ 44  10  15 255 254]\n",
              "<NDArray 5 @cpu(0)>"
            ]
          },
          "metadata": {},
          "execution_count": 5
        }
      ]
    },
    {
      "cell_type": "code",
      "source": [
        "#Juste rappeler la sortie d un element ndarray: <NDArray 5 @cpu(0)>, il dit que l objet est de type ndarray, a 5 elements (shape) et est exécuté dans le contecxte cpu"
      ],
      "metadata": {
        "id": "tYpQGXpYLMSP"
      },
      "execution_count": null,
      "outputs": []
    },
    {
      "cell_type": "markdown",
      "source": [
        "b) fonctions de ndarray.contrib"
      ],
      "metadata": {
        "id": "Kw8dIqqDLxKV"
      }
    },
    {
      "cell_type": "code",
      "source": [
        "#Dans l'exemple ci-dessous, nous utiliserons la fonction while_loop pour exécuter une boucle while pour un calcul \n",
        "#défini par l'utilisateur et une condition de boucle :"
      ],
      "metadata": {
        "id": "UfpQut_3NAJp"
      },
      "execution_count": null,
      "outputs": []
    },
    {
      "cell_type": "code",
      "source": [
        "cond = lambda i, s: i <= 7\n",
        "func = lambda i, s: ([i + s], [i + 1, s + i])\n",
        "loop_var = (mx.nd.array([0], dtype=\"int64\"), mx.nd.array([1], dtype=\"int64\"))\n",
        "outputs, states = mx.nd.contrib.while_loop(cond, func, loop_var, max_iterations=10)\n",
        "outputs"
      ],
      "metadata": {
        "colab": {
          "base_uri": "https://localhost:8080/"
        },
        "id": "cdVD959XLcQD",
        "outputId": "1e2dfd99-4ff1-4391-831b-bebb91088bcb"
      },
      "execution_count": 7,
      "outputs": [
        {
          "output_type": "execute_result",
          "data": {
            "text/plain": [
              "[\n",
              " [[             1]\n",
              "  [             2]\n",
              "  [             4]\n",
              "  [             7]\n",
              "  [            11]\n",
              "  [            16]\n",
              "  [            22]\n",
              "  [            29]\n",
              "  [94346013225408]\n",
              "  [            32]]\n",
              " <NDArray 10x1 @cpu(0)>]"
            ]
          },
          "metadata": {},
          "execution_count": 7
        }
      ]
    },
    {
      "cell_type": "code",
      "source": [
        "states"
      ],
      "metadata": {
        "colab": {
          "base_uri": "https://localhost:8080/"
        },
        "id": "2HzjbyyyNeEJ",
        "outputId": "0d79da8f-3f67-4a75-8250-81d0a28def40"
      },
      "execution_count": 8,
      "outputs": [
        {
          "output_type": "execute_result",
          "data": {
            "text/plain": [
              "[\n",
              " [8]\n",
              " <NDArray 1 @cpu(0)>, \n",
              " [29]\n",
              " <NDArray 1 @cpu(0)>]"
            ]
          },
          "metadata": {},
          "execution_count": 8
        }
      ]
    },
    {
      "cell_type": "markdown",
      "source": [
        "c) ndarray.image\n",
        "L'API Image NDArray est définie dans le package ndarray.image. Comme son nom l'indique, il est généralement utilisé pour les images et leurs caractéristiques."
      ],
      "metadata": {
        "id": "xoiT75gaN7qn"
      }
    },
    {
      "cell_type": "code",
      "source": [
        "#Exemple, nous utiliserons la fonction to_tensor pour convertir l'image NDArray de forme (H x W x C) ou (N x H x W x C) avec les \n",
        "#valeurs dans la plage [0, 255] en un tenseur NDArray de forme (C x H x W) ou (N x C x H x W) avec des valeurs dans la plage [0, 1].\n",
        "\n",
        "import numpy as np\n",
        "img = mx.nd.random.uniform(0, 255, (4, 2, 3)).astype(dtype=np.uint8)\n",
        "mx.nd.image.to_tensor(img)"
      ],
      "metadata": {
        "colab": {
          "base_uri": "https://localhost:8080/"
        },
        "id": "ltocyqEDN9Z9",
        "outputId": "5bd376f5-afc4-4f8f-becc-f1dbafe6d256"
      },
      "execution_count": 9,
      "outputs": [
        {
          "output_type": "execute_result",
          "data": {
            "text/plain": [
              "\n",
              "[[[0.54509807 0.84313726]\n",
              "  [0.5411765  0.62352943]\n",
              "  [0.43529412 0.05490196]\n",
              "  [0.38039216 0.8117647 ]]\n",
              "\n",
              " [[0.5921569  0.6       ]\n",
              "  [0.84705883 0.6431373 ]\n",
              "  [0.29411766 0.9607843 ]\n",
              "  [0.4745098  0.5254902 ]]\n",
              "\n",
              " [[0.7137255  0.85490197]\n",
              "  [0.42352942 0.38431373]\n",
              "  [0.8901961  0.27058825]\n",
              "  [0.7882353  0.47843137]]]\n",
              "<NDArray 3x4x2 @cpu(0)>"
            ]
          },
          "metadata": {},
          "execution_count": 9
        }
      ]
    },
    {
      "cell_type": "code",
      "source": [
        "#un autre exemple avec la fonction normalize pour normaliser un tenseur de forme (C x H x W) ou (N x C x H x W) avec la moyenne et l'écart type (SD) .\n",
        "\n",
        "img = mx.nd.random.uniform(0, 1, (3, 4, 2))\n",
        "\n",
        "mx.nd.image.normalize(img, mean=(0, 1, 2), std=(3, 2, 1))"
      ],
      "metadata": {
        "colab": {
          "base_uri": "https://localhost:8080/"
        },
        "id": "iGzpLgC4Otjb",
        "outputId": "7144680f-fa5f-4d2e-f183-5fd8a4eded64"
      },
      "execution_count": 10,
      "outputs": [
        {
          "output_type": "execute_result",
          "data": {
            "text/plain": [
              "\n",
              "[[[ 0.18934818  0.13092826]\n",
              "  [ 0.3085322   0.27869293]\n",
              "  [ 0.02367868  0.11246539]\n",
              "  [ 0.0290431   0.2160573 ]]\n",
              "\n",
              " [[-0.4898908  -0.31587923]\n",
              "  [-0.08369008 -0.02142242]\n",
              "  [-0.11092162 -0.42982462]\n",
              "  [-0.06499392 -0.06495637]]\n",
              "\n",
              " [[-1.0213816  -1.526392  ]\n",
              "  [-1.2008414  -1.1990893 ]\n",
              "  [-1.5385206  -1.4795225 ]\n",
              "  [-1.2194707  -1.3211205 ]]]\n",
              "<NDArray 3x4x2 @cpu(0)>"
            ]
          },
          "metadata": {},
          "execution_count": 10
        }
      ]
    },
    {
      "cell_type": "markdown",
      "source": [
        "d) ndarray.aléatoire"
      ],
      "metadata": {
        "id": "9sALeT2JO929"
      }
    },
    {
      "cell_type": "code",
      "source": [
        "#Exemple1 avec la fonction uniforme, Dans l'exemple ci-dessous, nous allons tirer des échantillons aléatoires à partir d'une distribution uniforme. \n",
        "#Pour cela utilisera la fonction uniform() .\n",
        "\n",
        "mx.nd.random.uniform(0, 1)"
      ],
      "metadata": {
        "colab": {
          "base_uri": "https://localhost:8080/"
        },
        "id": "5JoREfdmPCpM",
        "outputId": "ebc6af70-c11c-4150-edcd-f0848ae49ec4"
      },
      "execution_count": 11,
      "outputs": [
        {
          "output_type": "execute_result",
          "data": {
            "text/plain": [
              "\n",
              "[0.11827442]\n",
              "<NDArray 1 @cpu(0)>"
            ]
          },
          "metadata": {},
          "execution_count": 11
        }
      ]
    },
    {
      "cell_type": "code",
      "source": [
        "low = mx.nd.array([1,2,3])\n",
        "high = mx.nd.array([2,3,4])\n",
        "mx.nd.random.uniform(low, high, shape=2)"
      ],
      "metadata": {
        "colab": {
          "base_uri": "https://localhost:8080/"
        },
        "id": "H7aOVLsLPZSY",
        "outputId": "df8c7037-5956-45d5-dd75-dfb169eb8447"
      },
      "execution_count": 12,
      "outputs": [
        {
          "output_type": "execute_result",
          "data": {
            "text/plain": [
              "\n",
              "[[1.7206327 1.639921 ]\n",
              " [2.5820198 2.1433532]\n",
              " [3.5373733 3.9446688]]\n",
              "<NDArray 3x2 @cpu(0)>"
            ]
          },
          "metadata": {},
          "execution_count": 12
        }
      ]
    },
    {
      "cell_type": "code",
      "source": [
        "#Exemple2 avec la fonction generative_negative_binomial, Dans l'exemple ci-dessous, nous allons tirer des échantillons aléatoires à partir d'une distribution binomiale négative généralisée. Pour cela, nous utiliserons la fonction generalized_negative_binomial() .\n"
      ],
      "metadata": {
        "id": "Uv4jqR1BPikD"
      },
      "execution_count": null,
      "outputs": []
    },
    {
      "cell_type": "code",
      "source": [
        "mx.nd.random.generalized_negative_binomial(10, 0.5)"
      ],
      "metadata": {
        "colab": {
          "base_uri": "https://localhost:8080/"
        },
        "id": "gcHA0JA-Pqx-",
        "outputId": "a1509579-3dcd-405d-c384-78f9b0900f98"
      },
      "execution_count": 13,
      "outputs": [
        {
          "output_type": "execute_result",
          "data": {
            "text/plain": [
              "\n",
              "[9.]\n",
              "<NDArray 1 @cpu(0)>"
            ]
          },
          "metadata": {},
          "execution_count": 13
        }
      ]
    },
    {
      "cell_type": "code",
      "source": [
        "mu = mx.nd.array([1,2,3])\n",
        "alpha = mx.nd.array([0.2,0.4,0.6])\n",
        "mx.nd.random.generalized_negative_binomial(mu, alpha, shape=2)"
      ],
      "metadata": {
        "colab": {
          "base_uri": "https://localhost:8080/"
        },
        "id": "pTtn8K3_PwZr",
        "outputId": "7450ca37-1573-4d60-9891-3ae688698f8f"
      },
      "execution_count": 14,
      "outputs": [
        {
          "output_type": "execute_result",
          "data": {
            "text/plain": [
              "\n",
              "[[0. 1.]\n",
              " [0. 0.]\n",
              " [2. 0.]]\n",
              "<NDArray 3x2 @cpu(0)>"
            ]
          },
          "metadata": {},
          "execution_count": 14
        }
      ]
    },
    {
      "cell_type": "markdown",
      "source": [
        "e) ndarray.utils"
      ],
      "metadata": {
        "id": "ES66gfpSP5t-"
      }
    },
    {
      "cell_type": "code",
      "source": [
        "#Exemple, Dans l'exemple ci-dessous, nous allons retourner un nouveau tableau de forme et de type donnés, rempli de zéros. Pour cela, nous utiliserons la fonction zeros() .\n",
        "\n",
        "mx.nd.zeros((1,2), mx.cpu(), stype='csr')"
      ],
      "metadata": {
        "colab": {
          "base_uri": "https://localhost:8080/"
        },
        "id": "CM59gG64P4Qp",
        "outputId": "0acdac66-05c1-4f06-98f8-907fff51e2da"
      },
      "execution_count": 15,
      "outputs": [
        {
          "output_type": "execute_result",
          "data": {
            "text/plain": [
              "\n",
              "<CSRNDArray 1x2 @cpu(0)>"
            ]
          },
          "metadata": {},
          "execution_count": 15
        }
      ]
    },
    {
      "cell_type": "code",
      "source": [
        "mx.nd.zeros((1,2), mx.cpu(), 'float16', stype='row_sparse').asnumpy()"
      ],
      "metadata": {
        "colab": {
          "base_uri": "https://localhost:8080/"
        },
        "id": "TXZbFpxbQJN9",
        "outputId": "545ae52b-3910-4fad-c9cc-aec07c79ebff"
      },
      "execution_count": 16,
      "outputs": [
        {
          "output_type": "execute_result",
          "data": {
            "text/plain": [
              "array([[0., 0.]], dtype=float16)"
            ]
          },
          "metadata": {},
          "execution_count": 16
        }
      ]
    },
    {
      "cell_type": "code",
      "source": [
        "#Un autre exemple avec save et load"
      ],
      "metadata": {
        "id": "bccf7FhuQajS"
      },
      "execution_count": null,
      "outputs": []
    },
    {
      "cell_type": "code",
      "source": [
        "#Dans l'exemple ci-dessous, nous allons enregistrer une liste de tableaux et un dictionnaire de chaînes. Pour cela, nous utiliserons la fonction save() .\n",
        "x = mx.nd.zeros((2,3))\n",
        "y = mx.nd.ones((1,4))\n",
        "mx.nd.save('list', [x,y])\n",
        "mx.nd.save('dict', {'x':x, 'y':y})\n",
        "mx.nd.load('list')"
      ],
      "metadata": {
        "colab": {
          "base_uri": "https://localhost:8080/"
        },
        "id": "wCE5dR7yQdla",
        "outputId": "ae0bedbd-6c8f-4f9e-bc62-c33d595b8d24"
      },
      "execution_count": 17,
      "outputs": [
        {
          "output_type": "execute_result",
          "data": {
            "text/plain": [
              "[\n",
              " [[0. 0. 0.]\n",
              "  [0. 0. 0.]]\n",
              " <NDArray 2x3 @cpu(0)>, \n",
              " [[1. 1. 1. 1.]]\n",
              " <NDArray 1x4 @cpu(0)>]"
            ]
          },
          "metadata": {},
          "execution_count": 17
        }
      ]
    },
    {
      "cell_type": "code",
      "source": [
        "mx.nd.load('dict')"
      ],
      "metadata": {
        "colab": {
          "base_uri": "https://localhost:8080/"
        },
        "id": "wq_qRRQvQreI",
        "outputId": "7c65b0b2-a83a-45c2-c492-a56dce603e9a"
      },
      "execution_count": 19,
      "outputs": [
        {
          "output_type": "execute_result",
          "data": {
            "text/plain": [
              "{'x': \n",
              " [[0. 0. 0.]\n",
              "  [0. 0. 0.]]\n",
              " <NDArray 2x3 @cpu(0)>, 'y': \n",
              " [[1. 1. 1. 1.]]\n",
              " <NDArray 1x4 @cpu(0)>}"
            ]
          },
          "metadata": {},
          "execution_count": 19
        }
      ]
    },
    {
      "cell_type": "markdown",
      "source": [
        "# Apache MXNet - Symbole API Python"
      ],
      "metadata": {
        "id": "OpdWfUgpRheM"
      }
    },
    {
      "cell_type": "code",
      "source": [
        "#L'exemple ci-dessous montre comment on peut créer une expression simple en utilisant l'API Symbol de MXNet -\n",
        "\n",
        "#Un NDArray en utilisant un 'tableau' 1-D et 2-D à partir d'une liste Python régulière -\n",
        "\n",
        "import mxnet as mx\n",
        "# Two placeholders namely x and y will be created with mx.sym.variable\n",
        "x = mx.sym.Variable('x')\n",
        "y = mx.sym.Variable('y')\n",
        "# The symbol here is constructed using the plus ‘+’ operator.\n",
        "z = x - y"
      ],
      "metadata": {
        "id": "wJsn2PN0Ri-1"
      },
      "execution_count": 22,
      "outputs": []
    },
    {
      "cell_type": "code",
      "source": [
        "z"
      ],
      "metadata": {
        "colab": {
          "base_uri": "https://localhost:8080/"
        },
        "id": "bs8QhGIFSUq2",
        "outputId": "4d5f4ff6-3b4b-4324-dea2-6d8ad261b64d"
      },
      "execution_count": 23,
      "outputs": [
        {
          "output_type": "execute_result",
          "data": {
            "text/plain": [
              "<Symbol _minus0>"
            ]
          },
          "metadata": {},
          "execution_count": 23
        }
      ]
    },
    {
      "cell_type": "code",
      "source": [
        "z = x + y\n",
        "z"
      ],
      "metadata": {
        "colab": {
          "base_uri": "https://localhost:8080/"
        },
        "id": "JTditSO1SanC",
        "outputId": "6c4896b8-e8c7-4099-cc95-83727cf0147a"
      },
      "execution_count": 24,
      "outputs": [
        {
          "output_type": "execute_result",
          "data": {
            "text/plain": [
              "<Symbol _plus1>"
            ]
          },
          "metadata": {},
          "execution_count": 24
        }
      ]
    },
    {
      "cell_type": "code",
      "source": [
        "(x, y, z)"
      ],
      "metadata": {
        "colab": {
          "base_uri": "https://localhost:8080/"
        },
        "id": "KMcXQtA2Sf7T",
        "outputId": "8209e0d7-cb4b-4a5f-e660-ed8c1235b309"
      },
      "execution_count": 25,
      "outputs": [
        {
          "output_type": "execute_result",
          "data": {
            "text/plain": [
              "(<Symbol x>, <Symbol y>, <Symbol _plus1>)"
            ]
          },
          "metadata": {},
          "execution_count": 25
        }
      ]
    },
    {
      "cell_type": "markdown",
      "source": [
        "a) Ses fonctions de classes"
      ],
      "metadata": {
        "id": "sHpZonxPTAQC"
      }
    },
    {
      "cell_type": "code",
      "source": [
        "#Exemples de mise en œuvre\n",
        "#Dans l'exemple ci-dessous, nous utiliserons la fonction power() qui renverra le résultat élément par élément de l'élément de base élevé aux puissances de l'élément exp :\n",
        "\n",
        "import mxnet as mx\n",
        "mx.sym.power(3, 5)"
      ],
      "metadata": {
        "colab": {
          "base_uri": "https://localhost:8080/"
        },
        "id": "PTIxAEuSTBzd",
        "outputId": "70a2e162-c290-4b8e-cd05-8fc13a3434dd"
      },
      "execution_count": 26,
      "outputs": [
        {
          "output_type": "execute_result",
          "data": {
            "text/plain": [
              "243"
            ]
          },
          "metadata": {},
          "execution_count": 26
        }
      ]
    },
    {
      "cell_type": "code",
      "source": [
        "#Exemple 2, Dans l'exemple ci-dessous, nous utiliserons la fonction SoftmaxActivation() (ou softmax()) qui sera appliquée en entrée et destinée aux couches internes.\n",
        "\n",
        "input_data = mx.nd.array([[2., 0.9, -0.5, 4., 8.], [4., -.7, 9., 2., 0.9]])\n",
        "soft_max_act = mx.nd.softmax(input_data)\n",
        "print (soft_max_act.asnumpy())"
      ],
      "metadata": {
        "colab": {
          "base_uri": "https://localhost:8080/"
        },
        "id": "xCRDD1_RTJ0I",
        "outputId": "46f92a06-9e18-4f0d-94bc-045338996f6b"
      },
      "execution_count": 27,
      "outputs": [
        {
          "output_type": "stream",
          "name": "stdout",
          "text": [
            "[[2.4258138e-03 8.0748327e-04 1.9912291e-04 1.7924473e-02 9.7864312e-01]\n",
            " [6.6843736e-03 6.0796243e-05 9.9204904e-01 9.0463163e-04 3.0112558e-04]]\n"
          ]
        }
      ]
    },
    {
      "cell_type": "markdown",
      "source": [
        "b) symbole.contrib"
      ],
      "metadata": {
        "id": "PGeZlMDCTVym"
      }
    },
    {
      "cell_type": "code",
      "source": [
        "#Exemple, Dans l'exemple ci-dessous, nous utiliserons la fonction while_loop pour exécuter une boucle while pour un calcul défini par l'utilisateur et une condition de boucle -\n",
        "\n",
        "cond = lambda i, s: i <= 7\n",
        "func = lambda i, s: ([i + s], [i + 1, s + i])\n",
        "loop_vars = (mx.sym.var('i'), mx.sym.var('s'))\n",
        "outputs, states = mx.sym.contrib.while_loop(cond, func, loop_vars, max_iterations=10)\n",
        "print(outputs)"
      ],
      "metadata": {
        "colab": {
          "base_uri": "https://localhost:8080/"
        },
        "id": "ixQiwvhZTWtE",
        "outputId": "85e0f999-b981-4a1b-db78-dd73aacab98d"
      },
      "execution_count": 28,
      "outputs": [
        {
          "output_type": "stream",
          "name": "stdout",
          "text": [
            "[<Symbol _while_loop0>]\n"
          ]
        }
      ]
    },
    {
      "cell_type": "code",
      "source": [
        "states"
      ],
      "metadata": {
        "colab": {
          "base_uri": "https://localhost:8080/"
        },
        "id": "vbQrw3ssTm4X",
        "outputId": "72e5c247-54bc-4429-ed03-27500752ed94"
      },
      "execution_count": 29,
      "outputs": [
        {
          "output_type": "execute_result",
          "data": {
            "text/plain": [
              "[<Symbol _while_loop0>, <Symbol _while_loop0>]"
            ]
          },
          "metadata": {},
          "execution_count": 29
        }
      ]
    },
    {
      "cell_type": "markdown",
      "source": [
        "c) symbole.image"
      ],
      "metadata": {
        "id": "OkER_KmbT8O_"
      }
    },
    {
      "cell_type": "code",
      "source": [
        "#Dans l'exemple ci-dessous, nous utiliserons la fonction to_tensor pour convertir l'image NDArray de forme (H x W x C) ou (N x H x W x C) avec les valeurs dans la plage [0, 255] en un tenseur NDArray de forme (C x H x W) ou (N x C x H x W) avec des valeurs dans la plage [0, 1].\n",
        "\n",
        "import numpy as np\n",
        "\n",
        "img = mx.sym.random.uniform(0, 255, (4, 2, 3)).astype(dtype=np.uint8)\n",
        "\n",
        "mx.sym.image.to_tensor(img)"
      ],
      "metadata": {
        "colab": {
          "base_uri": "https://localhost:8080/"
        },
        "id": "7O4zVhjtT9xn",
        "outputId": "e376aa29-0fc1-405f-f370-87f86f8d7d24"
      },
      "execution_count": 30,
      "outputs": [
        {
          "output_type": "execute_result",
          "data": {
            "text/plain": [
              "<Symbol to_tensor0>"
            ]
          },
          "metadata": {},
          "execution_count": 30
        }
      ]
    },
    {
      "cell_type": "code",
      "source": [
        "#Exemple 2, Dans l'exemple ci-dessous, nous utiliserons la fonction normalize() pour normaliser un tenseur de forme (C x H x W) ou (N x C x H x W) avec moyenne et écart type (SD) .\n",
        "\n",
        "img = mx.sym.random.uniform(0, 1, (3, 4, 2))\n",
        "\n",
        "mx.sym.image.normalize(img, mean=(0, 1, 2), std=(3, 2, 1))"
      ],
      "metadata": {
        "colab": {
          "base_uri": "https://localhost:8080/"
        },
        "id": "yI8KJrViUL_Q",
        "outputId": "a68fae12-b7bd-4acb-f729-d1ee1225129e"
      },
      "execution_count": 31,
      "outputs": [
        {
          "output_type": "execute_result",
          "data": {
            "text/plain": [
              "<Symbol normalize0>"
            ]
          },
          "metadata": {},
          "execution_count": 31
        }
      ]
    },
    {
      "cell_type": "markdown",
      "source": [
        "d) symbole.sparse"
      ],
      "metadata": {
        "id": "xKpUAEO1Uguc"
      }
    },
    {
      "cell_type": "code",
      "source": [
        ""
      ],
      "metadata": {
        "id": "6EFpio5mUiLX"
      },
      "execution_count": null,
      "outputs": []
    },
    {
      "cell_type": "markdown",
      "source": [
        "# API Python Autograd et initialiseur"
      ],
      "metadata": {
        "id": "waUxwSswVGFW"
      }
    },
    {
      "cell_type": "markdown",
      "source": [
        "a) Classe fonction, methodes et leurs parametres"
      ],
      "metadata": {
        "id": "PqeaHgmcVcYf"
      }
    },
    {
      "cell_type": "code",
      "source": [
        "#Exemple, Dans l'exemple ci-dessous, nous utiliserons la méthode mxnet.autograd.grad() pour calculer le gradient de la tête par rapport aux variables -\n",
        "\n",
        "x = mx.nd.ones((2,))\n",
        "x.attach_grad()\n",
        "with mx.autograd.record():\n",
        "  z = mx.nd.elemwise_add(mx.nd.exp(x), x)\n",
        "dx_grad = mx.autograd.grad(z, [x], create_graph=True)\n",
        "dx_grad"
      ],
      "metadata": {
        "colab": {
          "base_uri": "https://localhost:8080/"
        },
        "id": "oO8wkzlRVHVV",
        "outputId": "b0956e5b-278b-48f4-8087-fbd1dad347cd"
      },
      "execution_count": 33,
      "outputs": [
        {
          "output_type": "execute_result",
          "data": {
            "text/plain": [
              "[\n",
              " [3.7182817 3.7182817]\n",
              " <NDArray 2 @cpu(0)>]"
            ]
          },
          "metadata": {},
          "execution_count": 33
        }
      ]
    },
    {
      "cell_type": "markdown",
      "source": [
        "mxnet.initializer\n",
        "Il s'agit de l'API de MXNet pour l'initialiseur de pesée. Il a les classes suivantes -"
      ],
      "metadata": {
        "id": "WDGQPc_xWFQe"
      }
    },
    {
      "cell_type": "code",
      "source": [
        "#Dans l'exemple ci-dessous, nous utiliserons la classe mxnet.init.Normal() pour créer un initialiseur et récupérer ses paramètres -\n",
        "\n",
        "init = mx.init.Normal(0.8)\n",
        "init.dumps()"
      ],
      "metadata": {
        "colab": {
          "base_uri": "https://localhost:8080/",
          "height": 35
        },
        "id": "qOwgRg3XWF0A",
        "outputId": "4a9c469f-c53f-485a-daab-74c0bb8b1841"
      },
      "execution_count": 35,
      "outputs": [
        {
          "output_type": "execute_result",
          "data": {
            "text/plain": [
              "'[\"normal\", {\"sigma\": 0.8}]'"
            ],
            "application/vnd.google.colaboratory.intrinsic+json": {
              "type": "string"
            }
          },
          "metadata": {},
          "execution_count": 35
        }
      ]
    },
    {
      "cell_type": "code",
      "source": [
        "#Exemple\n",
        "\n",
        "init = mx.init.Xavier(factor_type=\"in\", magnitude=2.45)\n",
        "init.dumps()"
      ],
      "metadata": {
        "colab": {
          "base_uri": "https://localhost:8080/",
          "height": 35
        },
        "id": "YdL65ycrWck_",
        "outputId": "05d909aa-99d4-4257-9613-bf607734d035"
      },
      "execution_count": 36,
      "outputs": [
        {
          "output_type": "execute_result",
          "data": {
            "text/plain": [
              "'[\"xavier\", {\"rnd_type\": \"uniform\", \"factor_type\": \"in\", \"magnitude\": 2.45}]'"
            ],
            "application/vnd.google.colaboratory.intrinsic+json": {
              "type": "string"
            }
          },
          "metadata": {},
          "execution_count": 36
        }
      ]
    },
    {
      "cell_type": "code",
      "source": [
        "#Dans l'exemple ci-dessous, nous utiliserons la classe mxnet.initializer.Mixed() pour initialiser les paramètres à l'aide de plusieurs initialiseurs -\n",
        "\n",
        "init = mx.initializer.Mixed(['bias', '.*'], [mx.init.Zero(),mx.init.Uniform(0.1)])\n",
        "module.init_params(init)\n",
        "\n",
        "for dictionary in module.get_params():\n",
        "  for key in dictionary:\n",
        "    print(key)\n",
        "  print(dictionary[key].asnumpy())"
      ],
      "metadata": {
        "id": "Y2dkon3WWj1N"
      },
      "execution_count": null,
      "outputs": []
    },
    {
      "cell_type": "markdown",
      "source": [
        "# Apache MXNet - gluon de l'API Python"
      ],
      "metadata": {
        "id": "xz4wEcNyYEIW"
      }
    },
    {
      "cell_type": "markdown",
      "source": [
        "a) gluon nn"
      ],
      "metadata": {
        "id": "Vw5oMJQEYN6j"
      }
    },
    {
      "cell_type": "code",
      "source": [
        "#Exemple 1\n",
        "#Dans l'exemple ci-dessous, nous allons utiliser Block() qui donne la classe de base pour toutes les couches et modèles de réseau de neurones.\n",
        "\n",
        "from mxnet.gluon import Block, nn\n",
        "class Model(Block):\n",
        "   def __init__(self, **kwargs):\n",
        "      super(Model, self).__init__(**kwargs)\n",
        "      # use name_scope to give child Blocks appropriate names.\n",
        "      with self.name_scope():\n",
        "         self.dense0 = nn.Dense(20)\n",
        "         self.dense1 = nn.Dense(20)\n",
        "   def forward(self, x):\n",
        "\n",
        "      x = mx.nd.relu(self.dense0(x))\n",
        "      return mx.nd.relu(self.dense1(x))\n",
        "\n",
        "model = Model()\n",
        "model.initialize(ctx=mx.cpu(0))\n",
        "model(mx.nd.zeros((5, 5), ctx=mx.cpu(0)))"
      ],
      "metadata": {
        "colab": {
          "base_uri": "https://localhost:8080/"
        },
        "id": "kD3Aw-8FYFuZ",
        "outputId": "178bf938-ff53-4450-ecc4-1ae7561c6c70"
      },
      "execution_count": 43,
      "outputs": [
        {
          "output_type": "execute_result",
          "data": {
            "text/plain": [
              "\n",
              "[[0. 0. 0. 0. 0. 0. 0. 0. 0. 0. 0. 0. 0. 0. 0. 0. 0. 0. 0. 0.]\n",
              " [0. 0. 0. 0. 0. 0. 0. 0. 0. 0. 0. 0. 0. 0. 0. 0. 0. 0. 0. 0.]\n",
              " [0. 0. 0. 0. 0. 0. 0. 0. 0. 0. 0. 0. 0. 0. 0. 0. 0. 0. 0. 0.]\n",
              " [0. 0. 0. 0. 0. 0. 0. 0. 0. 0. 0. 0. 0. 0. 0. 0. 0. 0. 0. 0.]\n",
              " [0. 0. 0. 0. 0. 0. 0. 0. 0. 0. 0. 0. 0. 0. 0. 0. 0. 0. 0. 0.]]\n",
              "<NDArray 5x20 @cpu(0)>"
            ]
          },
          "metadata": {},
          "execution_count": 43
        }
      ]
    },
    {
      "cell_type": "code",
      "source": [
        "#Exemple 2\n",
        "#Dans l'exemple ci-dessous, nous allons utiliser HybridBlock() qui prend en charge le transfert avec Symbol et NDArray.\n",
        "\n",
        "import mxnet as mx\n",
        "from mxnet.gluon import HybridBlock, nn\n",
        "\n",
        "\n",
        "class Model(HybridBlock):\n",
        "   def __init__(self, **kwargs):\n",
        "      super(Model, self).__init__(**kwargs)\n",
        "      # use name_scope to give child Blocks appropriate names.\n",
        "      with self.name_scope():\n",
        "         self.dense0 = nn.Dense(20)\n",
        "         self.dense1 = nn.Dense(20)\n",
        "\n",
        "   def forward(self, x):\n",
        "      x = nd.relu(self.dense0(x))\n",
        "      return nd.relu(self.dense1(x))\n",
        "model = Model()\n",
        "model.initialize(ctx=mx.cpu(0))\n",
        "\n",
        "model.hybridize()\n",
        "model(mx.nd.zeros((5, 5), ctx=mx.cpu(0)))"
      ],
      "metadata": {
        "colab": {
          "base_uri": "https://localhost:8080/"
        },
        "id": "4zoEL2g6YrcW",
        "outputId": "ebe2662b-5ab7-4323-9a13-c28a80100e35"
      },
      "execution_count": 44,
      "outputs": [
        {
          "output_type": "execute_result",
          "data": {
            "text/plain": [
              "\n",
              "[[0. 0. 0. 0. 0. 0. 0. 0. 0. 0. 0. 0. 0. 0. 0. 0. 0. 0. 0. 0.]\n",
              " [0. 0. 0. 0. 0. 0. 0. 0. 0. 0. 0. 0. 0. 0. 0. 0. 0. 0. 0. 0.]\n",
              " [0. 0. 0. 0. 0. 0. 0. 0. 0. 0. 0. 0. 0. 0. 0. 0. 0. 0. 0. 0.]\n",
              " [0. 0. 0. 0. 0. 0. 0. 0. 0. 0. 0. 0. 0. 0. 0. 0. 0. 0. 0. 0.]\n",
              " [0. 0. 0. 0. 0. 0. 0. 0. 0. 0. 0. 0. 0. 0. 0. 0. 0. 0. 0. 0.]]\n",
              "<NDArray 5x20 @cpu(0)>"
            ]
          },
          "metadata": {},
          "execution_count": 44
        }
      ]
    },
    {
      "cell_type": "markdown",
      "source": [
        "b) gluon.rnn"
      ],
      "metadata": {
        "id": "YBab-2f7Y7tS"
      }
    },
    {
      "cell_type": "code",
      "source": [
        "#Exemple 1\n",
        "#Dans l'exemple ci-dessous, nous allons utiliser GRU () qui applique une unité récurrente multicouche (GRU) RNN à une séquence d'entrée donnée.\n",
        "\n",
        "layer = mx.gluon.rnn.GRU(100, 3)\n",
        "layer.initialize()\n",
        "input_seq = mx.nd.random.uniform(shape=(5, 3, 10))\n",
        "out_seq = layer(input_seq)\n",
        "h0 = mx.nd.random.uniform(shape=(3, 3, 100))\n",
        "out_seq, hn = layer(input_seq, h0)\n",
        "out_seq"
      ],
      "metadata": {
        "colab": {
          "base_uri": "https://localhost:8080/"
        },
        "id": "FvybeXCNY8q4",
        "outputId": "2d838915-48b9-491c-b0c8-5c8f630a3c64"
      },
      "execution_count": 45,
      "outputs": [
        {
          "output_type": "execute_result",
          "data": {
            "text/plain": [
              "\n",
              "[[[ 8.82510692e-02  5.98370492e-01  8.78963619e-02 ...  4.52250570e-01\n",
              "    1.43120617e-01  8.14713910e-03]\n",
              "  [ 3.30856025e-01  1.22884169e-01  1.80029064e-01 ...  6.94054365e-02\n",
              "   -6.30930066e-03  1.88858539e-01]\n",
              "  [ 2.22866923e-01  3.64539683e-01  2.24259242e-01 ...  2.24734128e-01\n",
              "    3.41983467e-01  1.48379773e-01]]\n",
              "\n",
              " [[ 7.13944137e-02  3.77085567e-01  3.88878845e-02 ...  2.56424963e-01\n",
              "    7.97149613e-02 -3.84403626e-03]\n",
              "  [ 1.34998485e-01  9.95739549e-02  1.24262735e-01 ...  3.39990407e-02\n",
              "   -2.23748386e-02  1.49599701e-01]\n",
              "  [ 1.09922804e-01  2.23233327e-01  1.37406603e-01 ...  1.07579812e-01\n",
              "    1.61547467e-01  1.12562105e-01]]\n",
              "\n",
              " [[ 5.13373576e-02  2.21865490e-01  1.79146696e-02 ...  1.51024505e-01\n",
              "    3.98351811e-02 -3.55580682e-03]\n",
              "  [ 4.93958890e-02  6.43125549e-02  7.85289407e-02 ...  2.48136334e-02\n",
              "   -2.14191563e-02  1.03798047e-01]\n",
              "  [ 5.83099909e-02  1.28322393e-01  8.36149082e-02 ...  5.39119765e-02\n",
              "    7.48012140e-02  7.94764310e-02]]\n",
              "\n",
              " [[ 3.60381380e-02  1.25775546e-01  7.02770520e-03 ...  9.17769894e-02\n",
              "    1.71548501e-02 -3.10176751e-04]\n",
              "  [ 1.36550060e-02  3.84368077e-02  4.46460210e-02 ...  2.01139841e-02\n",
              "   -1.60709433e-02  6.82139471e-02]\n",
              "  [ 3.16584632e-02  7.31977224e-02  5.03375046e-02 ...  2.98778880e-02\n",
              "    3.53109613e-02  5.54381572e-02]]\n",
              "\n",
              " [[ 2.42822450e-02  7.10538849e-02  1.29563938e-04 ...  5.63558266e-02\n",
              "    4.91397362e-03  2.76423222e-03]\n",
              "  [ 9.50541231e-04  2.23347563e-02  2.23877393e-02 ...  1.62729044e-02\n",
              "   -1.12232044e-02  4.29100618e-02]\n",
              "  [ 1.85321197e-02  4.28471565e-02  2.86897030e-02 ...  1.95042975e-02\n",
              "    1.77078620e-02  3.91943678e-02]]]\n",
              "<NDArray 5x3x100 @cpu(0)>"
            ]
          },
          "metadata": {},
          "execution_count": 45
        }
      ]
    },
    {
      "cell_type": "code",
      "source": [
        "#Exemple 2\n",
        "#Dans l'exemple ci-dessous, nous allons utiliser LSTM () qui applique un RNN de mémoire à long terme (LSTM) à une séquence d'entrée donnée.\n",
        "\n",
        "layer = mx.gluon.rnn.LSTM(100, 3)\n",
        "layer.initialize()\n",
        "\n",
        "input_seq = mx.nd.random.uniform(shape=(5, 3, 10))\n",
        "out_seq = layer(input_seq)\n",
        "h0 = mx.nd.random.uniform(shape=(3, 3, 100))\n",
        "c0 = mx.nd.random.uniform(shape=(3, 3, 100))\n",
        "out_seq, hn = layer(input_seq,[h0,c0])\n",
        "out_seq"
      ],
      "metadata": {
        "colab": {
          "base_uri": "https://localhost:8080/"
        },
        "id": "wesp2RE3ZI0a",
        "outputId": "d8d858b7-dbff-4d0f-bedc-8e5e11cf5bfb"
      },
      "execution_count": 46,
      "outputs": [
        {
          "output_type": "execute_result",
          "data": {
            "text/plain": [
              "\n",
              "[[[ 9.88702476e-02  2.92791110e-02  1.73070654e-01 ...  5.00726998e-02\n",
              "    1.20640792e-01  2.03052074e-01]\n",
              "  [ 1.55304536e-01 -4.65283394e-02  1.75588176e-01 ...  1.88295797e-01\n",
              "    2.32254624e-01  3.05395070e-02]\n",
              "  [ 8.49643722e-02  1.01938546e-02  1.08178757e-01 ...  9.99166518e-02\n",
              "    1.29304871e-01  7.53594562e-02]]\n",
              "\n",
              " [[ 5.82398102e-02  4.89533320e-03  9.34099928e-02 ...  1.85772665e-02\n",
              "    4.64612469e-02  8.53038952e-02]\n",
              "  [ 8.28957632e-02 -2.55741980e-02  9.37088430e-02 ...  1.16543531e-01\n",
              "    1.00412995e-01  2.63477750e-02]\n",
              "  [ 4.81191166e-02  3.00772581e-03  5.53560704e-02 ...  6.24521002e-02\n",
              "    6.12978153e-02  4.68443856e-02]]\n",
              "\n",
              " [[ 3.48323658e-02 -1.28835475e-03  5.30818999e-02 ...  5.76857850e-03\n",
              "    1.55930026e-02  3.53714600e-02]\n",
              "  [ 4.34247106e-02 -1.82160120e-02  4.76683713e-02 ...  6.17266335e-02\n",
              "    4.95757461e-02  1.83805153e-02]\n",
              "  [ 2.68392172e-02  1.15902536e-03  3.17772143e-02 ...  3.38127725e-02\n",
              "    2.91226488e-02  2.55632140e-02]]\n",
              "\n",
              " [[ 2.06502955e-02 -1.86687021e-03  2.94605400e-02 ...  3.05050402e-04\n",
              "    5.55204740e-03  1.21483142e-02]\n",
              "  [ 2.23805699e-02 -1.29882488e-02  2.31709443e-02 ...  3.05664875e-02\n",
              "    2.60340609e-02  1.16643338e-02]\n",
              "  [ 1.43746510e-02  2.76026869e-04  1.86025370e-02 ...  1.65485479e-02\n",
              "    1.47178471e-02  1.29244616e-02]]\n",
              "\n",
              " [[ 1.21867033e-02 -8.42772599e-04  1.57346204e-02 ... -2.03763018e-03\n",
              "    2.91520497e-03  2.15377193e-03]\n",
              "  [ 1.12272380e-02 -8.73022433e-03  1.03788525e-02 ...  1.39174610e-02\n",
              "    1.49145173e-02  6.86185993e-03]\n",
              "  [ 7.15925172e-03  1.74263128e-04  1.07589513e-02 ...  7.01323431e-03\n",
              "    8.42668954e-03  5.90790575e-03]]]\n",
              "<NDArray 5x3x100 @cpu(0)>"
            ]
          },
          "metadata": {},
          "execution_count": 46
        }
      ]
    },
    {
      "cell_type": "markdown",
      "source": [
        "Modules de formation\n",
        "Les modules de formation à Gluon sont les suivants −\n",
        "\n",
        "perte de gluon"
      ],
      "metadata": {
        "id": "AlbzINdFZVQ4"
      }
    },
    {
      "cell_type": "code",
      "source": [
        "#Exemple 1\n",
        "#Dans l'exemple ci-dessous, nous allons initialiser les paramètres et les tableaux de dégradés en utilisant la méthode initialize() comme suit -\n",
        "\n",
        "weight = mx.gluon.Parameter('weight', shape=(2, 2))\n",
        "weight.initialize(ctx=mx.cpu(0))\n",
        "weight.data()"
      ],
      "metadata": {
        "colab": {
          "base_uri": "https://localhost:8080/"
        },
        "id": "x-wrg2g4ZVxc",
        "outputId": "d99a762b-78e2-4cc4-a25e-0c1cdd65e464"
      },
      "execution_count": 47,
      "outputs": [
        {
          "output_type": "execute_result",
          "data": {
            "text/plain": [
              "\n",
              "[[-0.03063859 -0.02505398]\n",
              " [ 0.02994981 -0.06580696]]\n",
              "<NDArray 2x2 @cpu(0)>"
            ]
          },
          "metadata": {},
          "execution_count": 47
        }
      ]
    },
    {
      "cell_type": "code",
      "source": [
        "weight.grad()"
      ],
      "metadata": {
        "colab": {
          "base_uri": "https://localhost:8080/"
        },
        "id": "9e_h61T7Z4uK",
        "outputId": "7632c609-fb9c-4aab-bdbb-e929242e46a7"
      },
      "execution_count": 48,
      "outputs": [
        {
          "output_type": "execute_result",
          "data": {
            "text/plain": [
              "\n",
              "[[0. 0.]\n",
              " [0. 0.]]\n",
              "<NDArray 2x2 @cpu(0)>"
            ]
          },
          "metadata": {},
          "execution_count": 48
        }
      ]
    },
    {
      "cell_type": "markdown",
      "source": [
        "c) gluon.data"
      ],
      "metadata": {
        "id": "9augXEL2aHj4"
      }
    },
    {
      "cell_type": "code",
      "source": [
        "#Exemple1\n",
        "#Dans l'exemple ci-dessous, nous allons utiliser l'API gluon.data.BatchSampler() , qui enveloppe un autre échantillonneur. Il renvoie les mini lots d'échantillons.\n",
        "\n",
        "import mxnet as mx\n",
        "from mxnet.gluon import data\n",
        "sampler = mx.gluon.data.SequentialSampler(15)\n",
        "batch_sampler = mx.gluon.data.BatchSampler(sampler, 4, 'keep')\n",
        "list(batch_sampler)"
      ],
      "metadata": {
        "colab": {
          "base_uri": "https://localhost:8080/"
        },
        "id": "vy7T9YVkaJcg",
        "outputId": "c19fa6fc-0db0-460c-f220-81e078dfaef5"
      },
      "execution_count": 50,
      "outputs": [
        {
          "output_type": "execute_result",
          "data": {
            "text/plain": [
              "[[0, 1, 2, 3], [4, 5, 6, 7], [8, 9, 10, 11], [12, 13, 14]]"
            ]
          },
          "metadata": {},
          "execution_count": 50
        }
      ]
    }
  ]
}